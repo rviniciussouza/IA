{
 "cells": [
  {
   "cell_type": "markdown",
   "metadata": {},
   "source": [
    "## Implementação e aplicação do algoritmo KNN para predição"
   ]
  },
  {
   "cell_type": "markdown",
   "metadata": {},
   "source": [
    "### Função para dividir o dataset entre dados para treino e dados que serão usados para realizar as predições"
   ]
  },
  {
   "cell_type": "code",
   "execution_count": 79,
   "metadata": {},
   "outputs": [],
   "source": [
    "from sklearn import datasets\n",
    "import pandas as pd\n",
    "import random \n",
    "import numpy as np\n",
    "import operator\n",
    "import math\n",
    "import matplotlib.pyplot as plt  \n",
    "import pylab as pl\n",
    "from sklearn.preprocessing import StandardScaler  \n",
    "from sklearn.metrics import classification_report, confusion_matrix \n",
    "\n",
    "def init(data, target, split):\n",
    "    x_treino = []\n",
    "    x_test = []\n",
    "    y_treino = []\n",
    "    y_test = []\n",
    "    for i in range(data.shape[0]):\n",
    "        if random.random() < split:\n",
    "            x_treino.append(data[i])\n",
    "            y_treino.append(target[i])\n",
    "        else:\n",
    "            x_test.append(data[i])    \n",
    "            y_test.append(target[i])\n",
    "    return x_treino, x_test, y_treino, y_test"
   ]
  },
  {
   "cell_type": "markdown",
   "metadata": {},
   "source": [
    "### Métrica usada para calcular a distância entre duas instâncias"
   ]
  },
  {
   "cell_type": "code",
   "execution_count": 80,
   "metadata": {},
   "outputs": [],
   "source": [
    "def distancia_euclidiana(instanceA, instanceB):\n",
    "    ans = 0\n",
    "    for i in range(len(instanceA)):\n",
    "        ans += (instanceA[i] - instanceB[i]) ** 2\n",
    "    return math.sqrt(ans)"
   ]
  },
  {
   "cell_type": "markdown",
   "metadata": {},
   "source": [
    "### Função que retorna os K vizinhos mais próximos de uma instância"
   ]
  },
  {
   "cell_type": "code",
   "execution_count": 81,
   "metadata": {},
   "outputs": [],
   "source": [
    "def get_nearest_neighbors(x_treino, y_treino, instance_test, k):\n",
    "\n",
    "    distancias = []\n",
    "    for i in range(len(x_treino)):\n",
    "        dist = distancia_euclidiana(x_treino[i], instance_test)\n",
    "        distancias.append((dist, y_treino[i]))\n",
    "    distancias.sort(key=operator.itemgetter(0))\n",
    "    neighbors = []\n",
    "    for i in range(k):\n",
    "        neighbors.append(distancias[i][1])\n",
    "    return neighbors"
   ]
  },
  {
   "cell_type": "code",
   "execution_count": 82,
   "metadata": {},
   "outputs": [],
   "source": [
    "def target_k_neighbors(vizinhos):\n",
    "    ans = {}\n",
    "    for i in vizinhos:\n",
    "        if i in ans:\n",
    "            ans[i] += 1\n",
    "        else:\n",
    "            ans[i] = 1\n",
    "    \n",
    "    qtd = 0\n",
    "    for i, j in ans.items():\n",
    "        if qtd < j:\n",
    "            qtd = j\n",
    "            best = i\n",
    "    return best"
   ]
  },
  {
   "cell_type": "markdown",
   "metadata": {},
   "source": [
    "### Função KNN\n",
    "Essa função retorna um vetor indicando a predição feita para cada caso de teste"
   ]
  },
  {
   "cell_type": "code",
   "execution_count": 83,
   "metadata": {},
   "outputs": [],
   "source": [
    "def knn(x_treino, y_treino, x_test, K):\n",
    "    # scaler = StandardScaler()  \n",
    "    # scaler.fit(x_treino)\n",
    "    # x_treino = scaler.transform(x_treino)  \n",
    "    # x_test = scaler.transform(x_test) \n",
    "    y_pred = []\n",
    "    for i in range(len(x_test)):\n",
    "        vizinhos = get_nearest_neighbors(x_treino, y_treino, x_test[i], K)\n",
    "        ans = target_k_neighbors(vizinhos) \n",
    "        y_pred.append(ans)\n",
    "    return y_pred"
   ]
  },
  {
   "cell_type": "markdown",
   "metadata": {},
   "source": [
    "### Experimentos utilizando a base de dados IRIS "
   ]
  },
  {
   "cell_type": "code",
   "execution_count": 84,
   "metadata": {},
   "outputs": [],
   "source": [
    "K = 5\n",
    "iris = datasets.load_iris()\n",
    "x_treino, x_test, y_treino, y_test = init(iris.data, iris.target, 0.6)\n",
    "y_pred = knn(x_treino, y_treino, x_test, K)"
   ]
  },
  {
   "cell_type": "markdown",
   "metadata": {},
   "source": [
    "#### Resultados da predições usando aproximadamente 60% da base para treino e com parâmetro K = 5"
   ]
  },
  {
   "cell_type": "code",
   "execution_count": 85,
   "metadata": {},
   "outputs": [
    {
     "name": "stdout",
     "output_type": "stream",
     "text": [
      "Original:setosa Predito:setosa\n",
      "Original:setosa Predito:setosa\n",
      "Original:setosa Predito:setosa\n",
      "Original:setosa Predito:setosa\n",
      "Original:setosa Predito:setosa\n",
      "Original:setosa Predito:setosa\n",
      "Original:setosa Predito:setosa\n",
      "Original:setosa Predito:setosa\n",
      "Original:setosa Predito:setosa\n",
      "Original:setosa Predito:setosa\n",
      "Original:setosa Predito:setosa\n",
      "Original:setosa Predito:setosa\n",
      "Original:setosa Predito:setosa\n",
      "Original:setosa Predito:setosa\n",
      "Original:setosa Predito:setosa\n",
      "Original:setosa Predito:setosa\n",
      "Original:setosa Predito:setosa\n",
      "Original:setosa Predito:setosa\n",
      "Original:setosa Predito:setosa\n",
      "Original:setosa Predito:setosa\n",
      "Original:versicolor Predito:versicolor\n",
      "Original:versicolor Predito:versicolor\n",
      "Original:versicolor Predito:versicolor\n",
      "Original:versicolor Predito:versicolor\n",
      "Original:versicolor Predito:versicolor\n",
      "Original:versicolor Predito:versicolor\n",
      "Original:versicolor Predito:versicolor\n",
      "Original:versicolor Predito:versicolor\n",
      "Original:versicolor Predito:versicolor\n",
      "Original:versicolor Predito:versicolor\n",
      "Original:versicolor Predito:versicolor\n",
      "Original:versicolor Predito:versicolor\n",
      "Original:versicolor Predito:versicolor\n",
      "Original:versicolor Predito:versicolor\n",
      "Original:versicolor Predito:versicolor\n",
      "Original:versicolor Predito:versicolor\n",
      "Original:versicolor Predito:versicolor\n",
      "Original:versicolor Predito:versicolor\n",
      "Original:versicolor Predito:versicolor\n",
      "Original:virginica Predito:virginica\n",
      "Original:virginica Predito:virginica\n",
      "Original:virginica Predito:virginica\n",
      "Original:virginica Predito:virginica\n",
      "Original:virginica Predito:virginica\n",
      "Original:virginica Predito:virginica\n",
      "Original:virginica Predito:virginica\n",
      "Original:virginica Predito:virginica\n",
      "Original:virginica Predito:virginica\n",
      "Original:virginica Predito:virginica\n",
      "Original:virginica Predito:virginica\n",
      "Original:virginica Predito:virginica\n",
      "Original:virginica Predito:virginica\n",
      "Original:virginica Predito:virginica\n",
      "Original:virginica Predito:versicolor\n",
      "Original:virginica Predito:virginica\n",
      "Original:virginica Predito:virginica\n"
     ]
    }
   ],
   "source": [
    "for i in range(len(y_pred)):\n",
    "    print('Original:' + iris.target_names[y_test[i]]  + ' Predito:' + iris.target_names[y_pred[i]])"
   ]
  },
  {
   "cell_type": "code",
   "execution_count": 86,
   "metadata": {},
   "outputs": [
    {
     "name": "stdout",
     "output_type": "stream",
     "text": [
      "[[20  0  0]\n",
      " [ 0 19  0]\n",
      " [ 0  1 16]]\n",
      "              precision    recall  f1-score   support\n",
      "\n",
      "           0       1.00      1.00      1.00        20\n",
      "           1       0.95      1.00      0.97        19\n",
      "           2       1.00      0.94      0.97        17\n",
      "\n",
      "   micro avg       0.98      0.98      0.98        56\n",
      "   macro avg       0.98      0.98      0.98        56\n",
      "weighted avg       0.98      0.98      0.98        56\n",
      "\n"
     ]
    }
   ],
   "source": [
    "print(confusion_matrix(y_test, y_pred))  \n",
    "print(classification_report(y_test, y_pred)) "
   ]
  },
  {
   "cell_type": "code",
   "execution_count": 70,
   "metadata": {},
   "outputs": [
    {
     "data": {
      "image/png": "[encoded data removed]",
      "text/plain": [
       "<matplotlib.figure.Figure at 0x7f27d0b1f9b0>"
      ]
     },
     "metadata": {
      "needs_background": "light"
     },
     "output_type": "display_data"
    }
   ],
   "source": [
    "error = []\n",
    "for i in range(1,30):\n",
    "    y_pred = knn(x_treino, y_treino, x_test, i)\n",
    "    ans = getPrecision(y_test, y_pred)\n",
    "    error.append(ans)\n",
    "plt.figure(figsize=(12, 6))  \n",
    "plt.plot(range(1, 30), error, color='red', linestyle='dashed', marker='o', markerfacecolor='blue', markersize=10)\n",
    "plt.title('Error Rate K Value')  \n",
    "plt.xlabel('K Value')  \n",
    "plt.ylabel('Mean Error')  \n",
    "plt.show()   "
   ]
  },
  {
   "cell_type": "markdown",
   "metadata": {},
   "source": [
    "O gráfico acima mostra o erro médio obtido variando o parâmetro K entre 1 e 30."
   ]
  },
  {
   "cell_type": "markdown",
   "metadata": {},
   "source": [
    "### Experimentos utilizando a base de dados Boston"
   ]
  },
  {
   "cell_type": "code",
   "execution_count": 87,
   "metadata": {},
   "outputs": [],
   "source": [
    "K = 5\n",
    "boston = datasets.load_boston()\n",
    "x_treino, x_test, y_treino, y_test = init(boston.data, boston.target, 0.6)\n",
    "y_pred = knn(x_treino, y_treino, x_test, K)"
   ]
  },
  {
   "cell_type": "markdown",
   "metadata": {},
   "source": [
    "Taxa de erro na predição usando por 60% dos dados para teste e com o parâmetro K = 5"
   ]
  },
  {
   "cell_type": "code",
   "execution_count": 89,
   "metadata": {},
   "outputs": [
    {
     "name": "stdout",
     "output_type": "stream",
     "text": [
      "0.9807692307692307\n"
     ]
    }
   ],
   "source": [
    "ans = getPrecision(y_pred, y_test)\n",
    "print(ans)"
   ]
  },
  {
   "cell_type": "code",
   "execution_count": 92,
   "metadata": {},
   "outputs": [],
   "source": [
    "K = 10\n",
    "boston = datasets.load_boston()\n",
    "x_treino, x_test, y_treino, y_test = init(boston.data, boston.target, 0.8)\n",
    "y_pred = knn(x_treino, y_treino, x_test, K)"
   ]
  },
  {
   "cell_type": "code",
   "execution_count": 95,
   "metadata": {},
   "outputs": [
    {
     "name": "stdout",
     "output_type": "stream",
     "text": [
      "0.9831932773109243\n"
     ]
    }
   ],
   "source": [
    "ans = getPrecision(y_pred, y_test)\n",
    "print(ans)"
   ]
  },
  {
   "cell_type": "code",
   "execution_count": null,
   "metadata": {},
   "outputs": [],
   "source": []
  }
 ],
 "metadata": {
  "kernelspec": {
   "display_name": "Python 3",
   "language": "python",
   "name": "python3"
  },
  "language_info": {
   "codemirror_mode": {
    "name": "ipython",
    "version": 3
   },
   "file_extension": ".py",
   "mimetype": "text/x-python",
   "name": "python",
   "nbconvert_exporter": "python",
   "pygments_lexer": "ipython3",
   "version": "3.6.7"
  }
 },
 "nbformat": 4,
 "nbformat_minor": 2
}
