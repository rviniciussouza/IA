{
 "cells": [
  {
   "cell_type": "markdown",
   "metadata": {},
   "source": [
    "## Implementação e aplicação do algoritmo KNN para predição"
   ]
  },
  {
   "cell_type": "markdown",
   "metadata": {},
   "source": [
    "### Função para dividir o dataset entre dados para treino e dados que serão usados para realizar as predições"
   ]
  },
  {
   "cell_type": "code",
   "execution_count": 122,
   "metadata": {},
   "outputs": [],
   "source": [
    "from sklearn import datasets\n",
    "import pandas as pd\n",
    "import random \n",
    "import numpy as np\n",
    "import operator\n",
    "import math\n",
    "import matplotlib.pyplot as plt  \n",
    "import pylab as pl\n",
    "from sklearn.preprocessing import StandardScaler  \n",
    "from sklearn.metrics import classification_report, confusion_matrix \n",
    "\n",
    "def init(data, target, split):\n",
    "    x_treino = []\n",
    "    x_test = []\n",
    "    y_treino = []\n",
    "    y_test = []\n",
    "    for i in range(data.shape[0]):\n",
    "        if random.random() < split:\n",
    "            x_treino.append(data[i])\n",
    "            y_treino.append(target[i])\n",
    "        else:\n",
    "            x_test.append(data[i])    \n",
    "            y_test.append(target[i])\n",
    "    return x_treino, x_test, y_treino, y_test"
   ]
  },
  {
   "cell_type": "markdown",
   "metadata": {},
   "source": [
    "### Métrica usada para calcular a distância entre duas instâncias"
   ]
  },
  {
   "cell_type": "code",
   "execution_count": 123,
   "metadata": {},
   "outputs": [],
   "source": [
    "def distancia_euclidiana(instanceA, instanceB):\n",
    "    ans = 0\n",
    "    for i in range(len(instanceA)):\n",
    "        ans += (instanceA[i] - instanceB[i]) ** 2\n",
    "    return math.sqrt(ans)"
   ]
  },
  {
   "cell_type": "markdown",
   "metadata": {},
   "source": [
    "### Função que retorna os K vizinhos mais próximos de uma instância"
   ]
  },
  {
   "cell_type": "code",
   "execution_count": 124,
   "metadata": {},
   "outputs": [],
   "source": [
    "def get_nearest_neighbors(x_treino, y_treino, instance_test, k):\n",
    "\n",
    "    distancias = []\n",
    "    for i in range(len(x_treino)):\n",
    "        dist = distancia_euclidiana(x_treino[i], instance_test)\n",
    "        distancias.append((dist, y_treino[i]))\n",
    "    distancias.sort(key=operator.itemgetter(0))\n",
    "    neighbors = []\n",
    "    for i in range(k):\n",
    "        neighbors.append(distancias[i][1])\n",
    "    return neighbors"
   ]
  },
  {
   "cell_type": "code",
   "execution_count": 125,
   "metadata": {},
   "outputs": [],
   "source": [
    "def target_k_neighbors(vizinhos):\n",
    "    ans = {}\n",
    "    for i in vizinhos:\n",
    "        if i in ans:\n",
    "            ans[i] += 1\n",
    "        else:\n",
    "            ans[i] = 1\n",
    "    \n",
    "    qtd = 0\n",
    "    for i, j in ans.items():\n",
    "        if qtd < j:\n",
    "            qtd = j\n",
    "            best = i\n",
    "    return best"
   ]
  },
  {
   "cell_type": "markdown",
   "metadata": {},
   "source": [
    "### Taxa de erro de uma predição"
   ]
  },
  {
   "cell_type": "code",
   "execution_count": 126,
   "metadata": {},
   "outputs": [],
   "source": [
    "def getPrecision(instanceA, instanceB):\n",
    "    erros = 0\n",
    "    for i in range(len(instanceA)):\n",
    "        if instanceA[i] != instanceB[i]:\n",
    "            erros += 1\n",
    "    \n",
    "    return erros / len(instanceA)"
   ]
  },
  {
   "cell_type": "markdown",
   "metadata": {},
   "source": [
    "### Função KNN\n",
    "Essa função retorna um vetor indicando a predição feita para cada caso de teste"
   ]
  },
  {
   "cell_type": "code",
   "execution_count": 127,
   "metadata": {},
   "outputs": [],
   "source": [
    "def knn(x_treino, y_treino, x_test, K):\n",
    "    # scaler = StandardScaler()  \n",
    "    # scaler.fit(x_treino)\n",
    "    # x_treino = scaler.transform(x_treino)  \n",
    "    # x_test = scaler.transform(x_test) \n",
    "    y_pred = []\n",
    "    for i in range(len(x_test)):\n",
    "        vizinhos = get_nearest_neighbors(x_treino, y_treino, x_test[i], K)\n",
    "        ans = target_k_neighbors(vizinhos) \n",
    "        y_pred.append(ans)\n",
    "    return y_pred"
   ]
  },
  {
   "cell_type": "markdown",
   "metadata": {},
   "source": [
    "### Experimentos utilizando a base de dados IRIS "
   ]
  },
  {
   "cell_type": "code",
   "execution_count": 135,
   "metadata": {},
   "outputs": [],
   "source": [
    "K = 5\n",
    "iris = datasets.load_iris()\n",
    "x_treino, x_test, y_treino, y_test = init(iris.data, iris.target, 0.6)\n",
    "y_pred = knn(x_treino, y_treino, x_test, K)"
   ]
  },
  {
   "cell_type": "markdown",
   "metadata": {},
   "source": [
    "#### Resultados da predições usando aproximadamente 60% da base para treino e com parâmetro K = 5"
   ]
  },
  {
   "cell_type": "code",
   "execution_count": 136,
   "metadata": {},
   "outputs": [
    {
     "name": "stdout",
     "output_type": "stream",
     "text": [
      "Original:setosa Predito:setosa\n",
      "Original:setosa Predito:setosa\n",
      "Original:setosa Predito:setosa\n",
      "Original:setosa Predito:setosa\n",
      "Original:setosa Predito:setosa\n",
      "Original:setosa Predito:setosa\n",
      "Original:setosa Predito:setosa\n",
      "Original:setosa Predito:setosa\n",
      "Original:setosa Predito:setosa\n",
      "Original:setosa Predito:setosa\n",
      "Original:setosa Predito:setosa\n",
      "Original:setosa Predito:setosa\n",
      "Original:setosa Predito:setosa\n",
      "Original:setosa Predito:setosa\n",
      "Original:setosa Predito:setosa\n",
      "Original:setosa Predito:setosa\n",
      "Original:setosa Predito:setosa\n",
      "Original:setosa Predito:setosa\n",
      "Original:versicolor Predito:versicolor\n",
      "Original:versicolor Predito:versicolor\n",
      "Original:versicolor Predito:versicolor\n",
      "Original:versicolor Predito:versicolor\n",
      "Original:versicolor Predito:virginica\n",
      "Original:versicolor Predito:versicolor\n",
      "Original:versicolor Predito:versicolor\n",
      "Original:versicolor Predito:versicolor\n",
      "Original:versicolor Predito:versicolor\n",
      "Original:versicolor Predito:versicolor\n",
      "Original:versicolor Predito:versicolor\n",
      "Original:versicolor Predito:versicolor\n",
      "Original:versicolor Predito:versicolor\n",
      "Original:versicolor Predito:versicolor\n",
      "Original:versicolor Predito:versicolor\n",
      "Original:versicolor Predito:versicolor\n",
      "Original:versicolor Predito:versicolor\n",
      "Original:virginica Predito:virginica\n",
      "Original:virginica Predito:virginica\n",
      "Original:virginica Predito:virginica\n",
      "Original:virginica Predito:virginica\n",
      "Original:virginica Predito:virginica\n",
      "Original:virginica Predito:virginica\n",
      "Original:virginica Predito:virginica\n",
      "Original:virginica Predito:virginica\n",
      "Original:virginica Predito:virginica\n",
      "Original:virginica Predito:virginica\n",
      "Original:virginica Predito:versicolor\n",
      "Original:virginica Predito:virginica\n",
      "Original:virginica Predito:virginica\n",
      "Original:virginica Predito:virginica\n",
      "Original:virginica Predito:virginica\n",
      "Original:virginica Predito:virginica\n",
      "Original:virginica Predito:virginica\n",
      "Original:virginica Predito:virginica\n",
      "Original:virginica Predito:virginica\n",
      "Original:virginica Predito:virginica\n",
      "Original:virginica Predito:virginica\n"
     ]
    }
   ],
   "source": [
    "for i in range(len(y_pred)):\n",
    "    print('Original:' + iris.target_names[y_test[i]]  + ' Predito:' + iris.target_names[y_pred[i]])"
   ]
  },
  {
   "cell_type": "code",
   "execution_count": 137,
   "metadata": {},
   "outputs": [
    {
     "name": "stdout",
     "output_type": "stream",
     "text": [
      "[[18  0  0]\n",
      " [ 0 16  1]\n",
      " [ 0  1 20]]\n",
      "              precision    recall  f1-score   support\n",
      "\n",
      "           0       1.00      1.00      1.00        18\n",
      "           1       0.94      0.94      0.94        17\n",
      "           2       0.95      0.95      0.95        21\n",
      "\n",
      "   micro avg       0.96      0.96      0.96        56\n",
      "   macro avg       0.96      0.96      0.96        56\n",
      "weighted avg       0.96      0.96      0.96        56\n",
      "\n"
     ]
    }
   ],
   "source": [
    "print(confusion_matrix(y_test, y_pred))  \n",
    "print(classification_report(y_test, y_pred)) "
   ]
  },
  {
   "cell_type": "markdown",
   "metadata": {},
   "source": [
    "Resultado obtido com aproximadamente 60% dos dados para treino e parâmetro K = 5"
   ]
  },
  {
   "cell_type": "code",
   "execution_count": 138,
   "metadata": {},
   "outputs": [
    {
     "data": {
      "image/png": "[encoded data removed]",
      "text/plain": [
       "<matplotlib.figure.Figure at 0x7fa78d91b518>"
      ]
     },
     "metadata": {
      "needs_background": "light"
     },
     "output_type": "display_data"
    }
   ],
   "source": [
    "error = []\n",
    "for i in range(1,30):\n",
    "    y_pred = knn(x_treino, y_treino, x_test, i)\n",
    "    ans = getPrecision(y_test, y_pred)\n",
    "    error.append(ans)\n",
    "plt.figure(figsize=(12, 6))  \n",
    "plt.plot(range(1, 30), error, color='red', linestyle='dashed', marker='o', markerfacecolor='blue', markersize=10)\n",
    "plt.title('Error Rate K Value')  \n",
    "plt.xlabel('K Value')  \n",
    "plt.ylabel('Mean Error')  \n",
    "plt.show()   "
   ]
  },
  {
   "cell_type": "markdown",
   "metadata": {},
   "source": [
    "O gráfico acima mostra o erro médio obtido variando o parâmetro K entre 1 e 30."
   ]
  },
  {
   "cell_type": "markdown",
   "metadata": {},
   "source": [
    "### Experimentos utilizando a base de dados Boston"
   ]
  },
  {
   "cell_type": "code",
   "execution_count": 60,
   "metadata": {},
   "outputs": [
    {
     "data": {
      "text/plain": [
       "Text(0.5,1,'Distribuição do target da base de dados Boston')"
      ]
     },
     "execution_count": 60,
     "metadata": {},
     "output_type": "execute_result"
    },
    {
     "data": {
      "image/png": "[encoded data removed]",
      "text/plain": [
       "<matplotlib.figure.Figure at 0x7fa78dc1ab00>"
      ]
     },
     "metadata": {
      "needs_background": "light"
     },
     "output_type": "display_data"
    }
   ],
   "source": [
    "plt.hist(boston.target)\n",
    "plt.xlabel('Preço mediano das residências (em 1000$)')\n",
    "plt.ylabel('Frequência')\n",
    "plt.title('Distribuição do target da base de dados Boston')"
   ]
  },
  {
   "cell_type": "markdown",
   "metadata": {},
   "source": [
    "A partir do histograma acima, é possível perceber que os valores do target da base de dados boston está distribuido em valores reais entre 5 e 50, o que é um intervalo muita grande de valores para se realizar uma predição usando o KNN. Sendo assim, vamos dividir esses dados em 4 classes. A primeira classe será as instâncias com valores no intervalo (0, 12.5], segunga classe instâncias com valores entre (12.5,25.0], terceira classe (25.0,37.5] e por fim a ultima classe conterá as intâncias com valores no intervalo (35.5,50]."
   ]
  },
  {
   "cell_type": "code",
   "execution_count": 110,
   "metadata": {},
   "outputs": [],
   "source": [
    "target = []\n",
    "classes = [12.5, 25.0, 37.5, 50.0]\n",
    "for i in range(len(boston.target)):\n",
    "    for j in range(len(classes)):\n",
    "        if boston.target[i] <= classes[j]:\n",
    "            target.append(j)\n",
    "            break"
   ]
  },
  {
   "cell_type": "code",
   "execution_count": 111,
   "metadata": {},
   "outputs": [],
   "source": [
    "K = 5\n",
    "boston = datasets.load_boston()\n",
    "x_treino, x_test, y_treino, y_test = init(boston.data, target, 0.7)\n",
    "y_pred = knn(x_treino, y_treino, x_test, K)"
   ]
  },
  {
   "cell_type": "code",
   "execution_count": 112,
   "metadata": {},
   "outputs": [
    {
     "name": "stdout",
     "output_type": "stream",
     "text": [
      "[[ 9  6  0  0]\n",
      " [ 8 84  8  0]\n",
      " [ 0 13 14  0]\n",
      " [ 0  9  4  1]]\n",
      "              precision    recall  f1-score   support\n",
      "\n",
      "           0       0.53      0.60      0.56        15\n",
      "           1       0.75      0.84      0.79       100\n",
      "           2       0.54      0.52      0.53        27\n",
      "           3       1.00      0.07      0.13        14\n",
      "\n",
      "   micro avg       0.69      0.69      0.69       156\n",
      "   macro avg       0.70      0.51      0.50       156\n",
      "weighted avg       0.71      0.69      0.67       156\n",
      "\n"
     ]
    }
   ],
   "source": [
    "print(confusion_matrix(y_test, y_pred))  \n",
    "print(classification_report(y_test, y_pred)) "
   ]
  },
  {
   "cell_type": "markdown",
   "metadata": {},
   "source": [
    "Usando todas as 13 caracteristicas, 70% dos dados para treino e parâmetro K = 5, o algoritmo obteve uma precisão de quase 70% nas predições das classes dos valores medianos das residências.\n",
    "O próximo passo de nossos experimentos é usar apenas as caracteristicas quem possuem uma relação linear com o target da base de dados."
   ]
  },
  {
   "cell_type": "code",
   "execution_count": 101,
   "metadata": {},
   "outputs": [
    {
     "data": {
      "text/plain": [
       "Text(0,0.5,'Preço')"
      ]
     },
     "execution_count": 101,
     "metadata": {},
     "output_type": "execute_result"
    },
    {
     "data": {
      "image/png": "[encoded data removed]",
      "text/plain": [
       "<matplotlib.figure.Figure at 0x7fa78da76a58>"
      ]
     },
     "metadata": {
      "needs_background": "light"
     },
     "output_type": "display_data"
    }
   ],
   "source": [
    "plt.scatter(boston.data[:,0], boston.target, color='black')\n",
    "plt.xlabel(boston.feature_names[0])\n",
    "plt.ylabel('Preço')"
   ]
  },
  {
   "cell_type": "code",
   "execution_count": 27,
   "metadata": {},
   "outputs": [
    {
     "data": {
      "text/plain": [
       "Text(0,0.5,'Preço')"
      ]
     },
     "execution_count": 27,
     "metadata": {},
     "output_type": "execute_result"
    },
    {
     "data": {
      "image/png": "[encoded data removed]",
      "text/plain": [
       "<matplotlib.figure.Figure at 0x7fa78e046a20>"
      ]
     },
     "metadata": {
      "needs_background": "light"
     },
     "output_type": "display_data"
    }
   ],
   "source": [
    "plt.scatter(boston.data[:,2], boston.target, color='black')\n",
    "plt.xlabel(boston.feature_names[2])\n",
    "plt.ylabel('Preço')"
   ]
  },
  {
   "cell_type": "code",
   "execution_count": 28,
   "metadata": {},
   "outputs": [
    {
     "data": {
      "text/plain": [
       "Text(0,0.5,'Preço')"
      ]
     },
     "execution_count": 28,
     "metadata": {},
     "output_type": "execute_result"
    },
    {
     "data": {
      "image/png": "[encoded data removed]",
      "text/plain": [
       "<matplotlib.figure.Figure at 0x7fa78e01d080>"
      ]
     },
     "metadata": {
      "needs_background": "light"
     },
     "output_type": "display_data"
    }
   ],
   "source": [
    "plt.scatter(boston.data[:,4], boston.target, color='black')\n",
    "plt.xlabel(boston.feature_names[4])\n",
    "plt.ylabel('Preço')"
   ]
  },
  {
   "cell_type": "markdown",
   "metadata": {},
   "source": [
    "Taxa de erro na predição usando por 60% dos dados para treinamento e com o parâmetro K = 5"
   ]
  },
  {
   "cell_type": "code",
   "execution_count": 29,
   "metadata": {},
   "outputs": [
    {
     "data": {
      "text/plain": [
       "Text(0,0.5,'Preço')"
      ]
     },
     "execution_count": 29,
     "metadata": {},
     "output_type": "execute_result"
    },
    {
     "data": {
      "image/png": "[encoded data removed]",
      "text/plain": [
       "<matplotlib.figure.Figure at 0x7fa78df756d8>"
      ]
     },
     "metadata": {
      "needs_background": "light"
     },
     "output_type": "display_data"
    }
   ],
   "source": [
    "plt.scatter(boston.data[:,5], boston.target, color='black')\n",
    "plt.xlabel(boston.feature_names[5])\n",
    "plt.ylabel('Preço')"
   ]
  },
  {
   "cell_type": "code",
   "execution_count": 30,
   "metadata": {},
   "outputs": [
    {
     "data": {
      "text/plain": [
       "Text(0,0.5,'Preço')"
      ]
     },
     "execution_count": 30,
     "metadata": {},
     "output_type": "execute_result"
    },
    {
     "data": {
      "image/png": "[encoded data removed]",
      "text/plain": [
       "<matplotlib.figure.Figure at 0x7fa78e12b6a0>"
      ]
     },
     "metadata": {
      "needs_background": "light"
     },
     "output_type": "display_data"
    }
   ],
   "source": [
    "plt.scatter(boston.data[:,7], boston.target, color='black')\n",
    "plt.xlabel(boston.feature_names[7])\n",
    "plt.ylabel('Preço')"
   ]
  },
  {
   "cell_type": "code",
   "execution_count": 31,
   "metadata": {},
   "outputs": [
    {
     "data": {
      "text/plain": [
       "Text(0,0.5,'Preço')"
      ]
     },
     "execution_count": 31,
     "metadata": {},
     "output_type": "execute_result"
    },
    {
     "data": {
      "image/png": "[encoded data removed]",
      "text/plain": [
       "<matplotlib.figure.Figure at 0x7fa78e08e6a0>"
      ]
     },
     "metadata": {
      "needs_background": "light"
     },
     "output_type": "display_data"
    }
   ],
   "source": [
    "plt.scatter(boston.data[:,10], boston.target, color='black')\n",
    "plt.xlabel(boston.feature_names[10])\n",
    "plt.ylabel('Preço')"
   ]
  },
  {
   "cell_type": "code",
   "execution_count": 50,
   "metadata": {},
   "outputs": [
    {
     "data": {
      "text/plain": [
       "Text(0,0.5,'Preço')"
      ]
     },
     "execution_count": 50,
     "metadata": {},
     "output_type": "execute_result"
    },
    {
     "data": {
      "image/png": "[encoded data removed]",
      "text/plain": [
       "<matplotlib.figure.Figure at 0x7fa78dce3cf8>"
      ]
     },
     "metadata": {
      "needs_background": "light"
     },
     "output_type": "display_data"
    }
   ],
   "source": [
    "plt.scatter(boston.data[:,2], boston.data[:,4], color='black')\n",
    "plt.xlabel(boston.feature_names[2])\n",
    "plt.ylabel(boston.feature_names[4])\n",
    "plt.ylabel('Preço')"
   ]
  },
  {
   "cell_type": "markdown",
   "metadata": {},
   "source": [
    "Analisando os gráficos de disperssão acima, é possivel avaliar que a taxa de criminalidade (CRIM), o numero médio\n",
    "de quartos nas resiências (RM) e a distância média das residências para cinco centros de emprego de Boston (DIS),\n",
    "são os fatores que possuem maior co-relação com o preço das residências, apesar de alguns outliers. Portanto vamos utilizar agora apenas essas 3 caracteristicas para fazer a predição das classes."
   ]
  },
  {
   "cell_type": "code",
   "execution_count": 119,
   "metadata": {},
   "outputs": [],
   "source": [
    "caracteristicas = [0, 5, 7]\n",
    "dataset = np.zeros((len(boston.data), len(caracteristicas)))\n",
    "\n",
    "for i in range(len(boston.data)):\n",
    "    for j in range(len(caracteristicas)):\n",
    "        dataset[i][j] = boston.data[i][caracteristicas[j]];"
   ]
  },
  {
   "cell_type": "code",
   "execution_count": 121,
   "metadata": {},
   "outputs": [
    {
     "name": "stdout",
     "output_type": "stream",
     "text": [
      "0.19863013698630136\n"
     ]
    }
   ],
   "source": [
    "K = 5\n",
    "boston = datasets.load_boston()\n",
    "x_treino, x_test, y_treino, y_test = init(dataset, target, 0.7)\n",
    "y_pred = knn(x_treino, y_treino, x_test, K)\n",
    "print(getPrecision(y_pred, y_test))"
   ]
  },
  {
   "cell_type": "code",
   "execution_count": 97,
   "metadata": {},
   "outputs": [
    {
     "name": "stdout",
     "output_type": "stream",
     "text": [
      "[[ 6  4  0  0]\n",
      " [ 2 59  1  1]\n",
      " [ 0  6 18  1]\n",
      " [ 0  1  0  7]]\n",
      "              precision    recall  f1-score   support\n",
      "\n",
      "           0       0.75      0.60      0.67        10\n",
      "           1       0.84      0.94      0.89        63\n",
      "           2       0.95      0.72      0.82        25\n",
      "           3       0.78      0.88      0.82         8\n",
      "\n",
      "   micro avg       0.85      0.85      0.85       106\n",
      "   macro avg       0.83      0.78      0.80       106\n",
      "weighted avg       0.85      0.85      0.85       106\n",
      "\n"
     ]
    }
   ],
   "source": [
    "print(confusion_matrix(y_test, y_pred))  \n",
    "print(classification_report(y_test, y_pred)) "
   ]
  },
  {
   "cell_type": "markdown",
   "metadata": {},
   "source": [
    "O resultado após a escolhas das variáveis que mais influênciam o valor das casas foi bem melhor que o resultado\n",
    "usando todas as caracteristicas.\n"
   ]
  },
  {
   "cell_type": "markdown",
   "metadata": {},
   "source": [
    "### Referências \n",
    "\n",
    "http://sfb649.wiwi.hu-berlin.de/fedc_homepage/xplore/tutorials/mvahtmlnode11.html#c1bhpcpfig"
   ]
  },
  {
   "cell_type": "code",
   "execution_count": null,
   "metadata": {},
   "outputs": [],
   "source": []
  }
 ],
 "metadata": {
  "kernelspec": {
   "display_name": "Python 3",
   "language": "python",
   "name": "python3"
  },
  "language_info": {
   "codemirror_mode": {
    "name": "ipython",
    "version": 3
   },
   "file_extension": ".py",
   "mimetype": "text/x-python",
   "name": "python",
   "nbconvert_exporter": "python",
   "pygments_lexer": "ipython3",
   "version": "3.6.7"
  }
 },
 "nbformat": 4,
 "nbformat_minor": 2
}
