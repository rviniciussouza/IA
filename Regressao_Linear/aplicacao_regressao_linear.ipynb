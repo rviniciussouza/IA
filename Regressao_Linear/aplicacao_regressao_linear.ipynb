{
 "cells": [
  {
   "cell_type": "markdown",
   "metadata": {},
   "source": [
    "## Algoritmo de Regressão Linear Simples "
   ]
  },
  {
   "cell_type": "code",
   "execution_count": 46,
   "metadata": {},
   "outputs": [],
   "source": [
    "import numpy as np\n",
    "import matplotlib.pyplot as plt\n",
    "from sklearn import datasets\n",
    "import pandas as pd\n",
    "\n",
    "class LinearRegression:\n",
    "    def __init__(self):\n",
    "        self.coef = None\n",
    "        self.intercept = None\n",
    "        self.equation = None\n",
    "    \n",
    "    def fit(self, X_, Y_):\n",
    "        X = np.array(X_)\n",
    "        Y = np.array(Y_)\n",
    "        self.setParameters(X, Y)\n",
    "        self.equation = lambda _x : self.coef * _x + self.intercept\n",
    "\n",
    "    def setParameters(self, X, Y):\n",
    "        n = len(X)\n",
    "        sum_x_squared = sum(X * X)\n",
    "        self.coef = (sum(X * Y) - n * X.mean() * Y.mean()) / (sum_x_squared - n * X.mean() ** 2) \n",
    "        self.intercept = Y.mean() - self.coef * X.mean()\n",
    "    \n",
    "    def getParameters(self):\n",
    "        return self.coef, self.intercept\n",
    "\n",
    "    def predict(self, X):\n",
    "        return np.array(list(map(self.equation, X)))\n",
    "\n",
    "    def sum_residual_quadratic(self, X, Y):\n",
    "        return sum((Y - self.predict(X)) ** 2)\n",
    "    \n",
    "    def sum_total_quadratic(self, X, Y):\n",
    "        return sum((Y - Y.mean()) ** 2)\n",
    "\n",
    "    def score(self, X, Y):\n",
    "        return 1 - self.sum_residual_quadratic(X, Y) / self.sum_total_quadratic(X, Y)"
   ]
  },
  {
   "cell_type": "markdown",
   "metadata": {},
   "source": [
    "### Aplicação do algoritmo utilizando a base de dados boston"
   ]
  },
  {
   "cell_type": "code",
   "execution_count": 38,
   "metadata": {},
   "outputs": [
    {
     "name": "stdout",
     "output_type": "stream",
     "text": [
      "Coeficiente de Determinação R^2\n",
      "0.1507804690497574\n",
      "Equação: -0.415190*X + 24.033106\n"
     ]
    }
   ],
   "source": [
    "model = LinearRegression()\n",
    "X = boston.data[:,0]\n",
    "Y = boston.target\n",
    "model.fit(X, Y)\n",
    "print(\"Coeficiente de Determinação R^2\")\n",
    "print(model.score(X, Y))\n",
    "print(\"Equação: %f*X + %f\" % (model.coef, model.intercept))"
   ]
  },
  {
   "cell_type": "code",
   "execution_count": 39,
   "metadata": {},
   "outputs": [
    {
     "data": {
      "image/png": "[encoded data removed]",
      "text/plain": [
       "<matplotlib.figure.Figure at 0x7fbc1a558630>"
      ]
     },
     "metadata": {
      "needs_background": "light"
     },
     "output_type": "display_data"
    }
   ],
   "source": [
    "y_pred = model.predict(X)\n",
    "plt.scatter(X, Y,  color='black')\n",
    "plt.plot(X, y_pred , color='blue', linewidth=3)\n",
    "plt.xlabel(boston.feature_names[0])\n",
    "plt.ylabel('Preço')\n",
    "plt.show()"
   ]
  },
  {
   "cell_type": "code",
   "execution_count": 40,
   "metadata": {},
   "outputs": [
    {
     "name": "stdout",
     "output_type": "stream",
     "text": [
      "Coeficiente de Determinação R^2: 0.483525\n",
      "Equação: 9.102109*X + -34.670621\n"
     ]
    }
   ],
   "source": [
    "model = LinearRegression()\n",
    "X = boston.data[:,5]\n",
    "Y = boston.target\n",
    "model.fit(X, Y)\n",
    "print(\"Coeficiente de Determinação R^2: %f\" % (model.score(X, Y)))\n",
    "print(\"Equação: %f*X + %f\" % (model.coef, model.intercept))"
   ]
  },
  {
   "cell_type": "code",
   "execution_count": 41,
   "metadata": {},
   "outputs": [
    {
     "data": {
      "image/png": "[encoded data removed]",
      "text/plain": [
       "<matplotlib.figure.Figure at 0x7fbc1a502e10>"
      ]
     },
     "metadata": {
      "needs_background": "light"
     },
     "output_type": "display_data"
    }
   ],
   "source": [
    "y_pred = model.predict(X)\n",
    "plt.scatter(X, Y,  color='black')\n",
    "plt.plot(X, y_pred , color='blue', linewidth=3)\n",
    "plt.xlabel(boston.feature_names[5])\n",
    "plt.ylabel('Preço')\n",
    "plt.show()"
   ]
  },
  {
   "cell_type": "markdown",
   "metadata": {},
   "source": [
    "### Coeficiente de Correlação Linear de Pearson"
   ]
  },
  {
   "cell_type": "code",
   "execution_count": 45,
   "metadata": {},
   "outputs": [
    {
     "name": "stdout",
     "output_type": "stream",
     "text": [
      "             CRIM        ZN     INDUS      CHAS       NOX        RM       AGE  \\\n",
      "CRIM     1.000000 -0.200469  0.406583 -0.055892  0.420972 -0.219247  0.352734   \n",
      "ZN      -0.200469  1.000000 -0.533828 -0.042697 -0.516604  0.311991 -0.569537   \n",
      "INDUS    0.406583 -0.533828  1.000000  0.062938  0.763651 -0.391676  0.644779   \n",
      "CHAS    -0.055892 -0.042697  0.062938  1.000000  0.091203  0.091251  0.086518   \n",
      "NOX      0.420972 -0.516604  0.763651  0.091203  1.000000 -0.302188  0.731470   \n",
      "RM      -0.219247  0.311991 -0.391676  0.091251 -0.302188  1.000000 -0.240265   \n",
      "AGE      0.352734 -0.569537  0.644779  0.086518  0.731470 -0.240265  1.000000   \n",
      "DIS     -0.379670  0.664408 -0.708027 -0.099176 -0.769230  0.205246 -0.747881   \n",
      "RAD      0.625505 -0.311948  0.595129 -0.007368  0.611441 -0.209847  0.456022   \n",
      "TAX      0.582764 -0.314563  0.720760 -0.035587  0.668023 -0.292048  0.506456   \n",
      "PTRATIO  0.289946 -0.391679  0.383248 -0.121515  0.188933 -0.355501  0.261515   \n",
      "B       -0.385064  0.175520 -0.356977  0.048788 -0.380051  0.128069 -0.273534   \n",
      "LSTAT    0.455621 -0.412995  0.603800 -0.053929  0.590879 -0.613808  0.602339   \n",
      "\n",
      "              DIS       RAD       TAX   PTRATIO         B     LSTAT  \n",
      "CRIM    -0.379670  0.625505  0.582764  0.289946 -0.385064  0.455621  \n",
      "ZN       0.664408 -0.311948 -0.314563 -0.391679  0.175520 -0.412995  \n",
      "INDUS   -0.708027  0.595129  0.720760  0.383248 -0.356977  0.603800  \n",
      "CHAS    -0.099176 -0.007368 -0.035587 -0.121515  0.048788 -0.053929  \n",
      "NOX     -0.769230  0.611441  0.668023  0.188933 -0.380051  0.590879  \n",
      "RM       0.205246 -0.209847 -0.292048 -0.355501  0.128069 -0.613808  \n",
      "AGE     -0.747881  0.456022  0.506456  0.261515 -0.273534  0.602339  \n",
      "DIS      1.000000 -0.494588 -0.534432 -0.232471  0.291512 -0.496996  \n",
      "RAD     -0.494588  1.000000  0.910228  0.464741 -0.444413  0.488676  \n",
      "TAX     -0.534432  0.910228  1.000000  0.460853 -0.441808  0.543993  \n",
      "PTRATIO -0.232471  0.464741  0.460853  1.000000 -0.177383  0.374044  \n",
      "B        0.291512 -0.444413 -0.441808 -0.177383  1.000000 -0.366087  \n",
      "LSTAT   -0.496996  0.488676  0.543993  0.374044 -0.366087  1.000000  \n"
     ]
    }
   ],
   "source": [
    "dados = pd.DataFrame(boston.data, columns= boston.feature_names)\n",
    "print(dados.corr(method='pearson'))"
   ]
  },
  {
   "cell_type": "markdown",
   "metadata": {},
   "source": [
    "A coorelação entre INDUS e NOX é de 0.763651, o que é considerado alto."
   ]
  },
  {
   "cell_type": "code",
   "execution_count": 47,
   "metadata": {},
   "outputs": [
    {
     "name": "stdout",
     "output_type": "stream",
     "text": [
      "Coeficiente de Determinação R^2: 0.583164\n",
      "Equação: 0.012899*X + 0.411044\n"
     ]
    }
   ],
   "source": [
    "model = LinearRegression()\n",
    "X = boston.data[:,2]\n",
    "Y = boston.data[:,4]\n",
    "model.fit(X, Y)\n",
    "print(\"Coeficiente de Determinação R^2: %f\" % (model.score(X, Y)))\n",
    "print(\"Equação: %f*X + %f\" % (model.coef, model.intercept))"
   ]
  },
  {
   "cell_type": "code",
   "execution_count": null,
   "metadata": {},
   "outputs": [],
   "source": []
  }
 ],
 "metadata": {
  "kernelspec": {
   "display_name": "Python 3",
   "language": "python",
   "name": "python3"
  },
  "language_info": {
   "codemirror_mode": {
    "name": "ipython",
    "version": 3
   },
   "file_extension": ".py",
   "mimetype": "text/x-python",
   "name": "python",
   "nbconvert_exporter": "python",
   "pygments_lexer": "ipython3",
   "version": "3.6.7"
  }
 },
 "nbformat": 4,
 "nbformat_minor": 2
}
